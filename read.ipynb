{
 "cells": [
  {
   "cell_type": "code",
   "execution_count": 2,
   "metadata": {},
   "outputs": [
    {
     "name": "stdout",
     "output_type": "stream",
     "text": [
      "header               Estados  Unpend time   Ready time   Switch time   Pend time   \\\n",
      "0  Simple linked-list           264          361           884         945   \n",
      "1     Red/black tree            365          592          1178        1045   \n",
      "2        Multi-queue            274          356           880         968   \n",
      "\n",
      "   Total time   \n",
      "0         2454  \n",
      "1         3180  \n",
      "2         2478  \n"
     ]
    }
   ],
   "source": [
    "\n",
    "import pandas as pd\n",
    "import matplotlib.pyplot as plt\n",
    "import numpy as np\n",
    "\n",
    "file_path = 'graph.csv'\n",
    "x_axis_title = ['Unpend time', 'Ready time', 'Switch time', 'Pend time', 'Total time']\n",
    "data = pd.read_csv(file_path)\n",
    "#print(data)\n",
    "#new_header = data.iloc[0] #grab the first row for the header\n",
    "#data = data[1:] #take the data less the header row\n",
    "#data.columns = new_header #set the header row as the df header\n",
    "print(\"header\", data)\n",
    "#input()\n",
    "#input()\n"
   ]
  },
  {
   "cell_type": "code",
   "execution_count": null,
   "metadata": {},
   "outputs": [],
   "source": [
    "print(data.columns)\n",
    "categorias = data['Estados']\n",
    "print(f\"categorias {list(categorias)}\")\n",
    "valor1 = data['Simple linked-list']\n",
    "valor2 = data['Red/black tree']\n",
    "valor3 = data['Multi-queue']"
   ]
  },
  {
   "cell_type": "code",
   "execution_count": null,
   "metadata": {},
   "outputs": [],
   "source": []
  }
 ],
 "metadata": {
  "kernelspec": {
   "display_name": "Python 3",
   "language": "python",
   "name": "python3"
  },
  "language_info": {
   "codemirror_mode": {
    "name": "ipython",
    "version": 3
   },
   "file_extension": ".py",
   "mimetype": "text/x-python",
   "name": "python",
   "nbconvert_exporter": "python",
   "pygments_lexer": "ipython3",
   "version": "3.11.9"
  }
 },
 "nbformat": 4,
 "nbformat_minor": 2
}
